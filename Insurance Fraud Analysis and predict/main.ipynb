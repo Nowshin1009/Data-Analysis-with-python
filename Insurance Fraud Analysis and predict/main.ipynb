{
 "cells": [
  {
   "cell_type": "markdown",
   "metadata": {},
   "source": [
    "# Insurance Fraud Detection\n",
    "Dataset : __[Click here](https://www.kaggle.com/datasets/nitingoyal8/insurance-dataset)__ "
   ]
  },
  {
   "cell_type": "markdown",
   "metadata": {},
   "source": [
    "---"
   ]
  },
  {
   "cell_type": "code",
   "execution_count": 14,
   "metadata": {},
   "outputs": [],
   "source": [
    "import numpy as numpy\n",
    "import pandas as pd\n",
    "import matplotlib.pyplot as plt\n",
    "import seaborn as sns\n",
    "%matplotlib inline\n"
   ]
  },
  {
   "cell_type": "markdown",
   "metadata": {},
   "source": [
    "## Dataset Overview"
   ]
  },
  {
   "cell_type": "code",
   "execution_count": 20,
   "metadata": {},
   "outputs": [
    {
     "data": {
      "text/plain": [
       "(1000, 12)"
      ]
     },
     "execution_count": 20,
     "metadata": {},
     "output_type": "execute_result"
    }
   ],
   "source": [
    "df = pd.read_csv('insurance_dataset.csv', encoding='unicode_escape')\n",
    "df.shape"
   ]
  },
  {
   "cell_type": "code",
   "execution_count": 16,
   "metadata": {},
   "outputs": [
    {
     "name": "stdout",
     "output_type": "stream",
     "text": [
      "<class 'pandas.core.frame.DataFrame'>\n",
      "RangeIndex: 1000 entries, 0 to 999\n",
      "Data columns (total 12 columns):\n",
      " #   Column                Non-Null Count  Dtype  \n",
      "---  ------                --------------  -----  \n",
      " 0   Policy_ID             1000 non-null   object \n",
      " 1   Customer_Age          1000 non-null   int64  \n",
      " 2   Gender                1000 non-null   object \n",
      " 3   Region                1000 non-null   object \n",
      " 4   Policy_Type           1000 non-null   object \n",
      " 5   Premium_Amount (USD)  1000 non-null   float64\n",
      " 6   Claim_Amount (USD)    1000 non-null   float64\n",
      " 7   Claim_Status          1000 non-null   object \n",
      " 8   Number_of_Claims      1000 non-null   int64  \n",
      " 9   Vehicle_Age           212 non-null    float64\n",
      " 10  Smoking_Status        382 non-null    object \n",
      " 11  Medical_History       297 non-null    object \n",
      "dtypes: float64(3), int64(2), object(7)\n",
      "memory usage: 93.9+ KB\n"
     ]
    }
   ],
   "source": [
    "df.info()"
   ]
  },
  {
   "cell_type": "code",
   "execution_count": 21,
   "metadata": {},
   "outputs": [
    {
     "data": {
      "text/html": [
       "<div>\n",
       "<style scoped>\n",
       "    .dataframe tbody tr th:only-of-type {\n",
       "        vertical-align: middle;\n",
       "    }\n",
       "\n",
       "    .dataframe tbody tr th {\n",
       "        vertical-align: top;\n",
       "    }\n",
       "\n",
       "    .dataframe thead th {\n",
       "        text-align: right;\n",
       "    }\n",
       "</style>\n",
       "<table border=\"1\" class=\"dataframe\">\n",
       "  <thead>\n",
       "    <tr style=\"text-align: right;\">\n",
       "      <th></th>\n",
       "      <th>Policy_ID</th>\n",
       "      <th>Customer_Age</th>\n",
       "      <th>Gender</th>\n",
       "      <th>Region</th>\n",
       "      <th>Policy_Type</th>\n",
       "      <th>Premium_Amount (USD)</th>\n",
       "      <th>Claim_Amount (USD)</th>\n",
       "      <th>Claim_Status</th>\n",
       "      <th>Number_of_Claims</th>\n",
       "      <th>Vehicle_Age</th>\n",
       "      <th>Smoking_Status</th>\n",
       "      <th>Medical_History</th>\n",
       "    </tr>\n",
       "  </thead>\n",
       "  <tbody>\n",
       "    <tr>\n",
       "      <th>0</th>\n",
       "      <td>POL_0001</td>\n",
       "      <td>76</td>\n",
       "      <td>Female</td>\n",
       "      <td>South</td>\n",
       "      <td>Home</td>\n",
       "      <td>1334.50</td>\n",
       "      <td>0.00</td>\n",
       "      <td>Pending</td>\n",
       "      <td>0</td>\n",
       "      <td>NaN</td>\n",
       "      <td>NaN</td>\n",
       "      <td>NaN</td>\n",
       "    </tr>\n",
       "    <tr>\n",
       "      <th>1</th>\n",
       "      <td>POL_0002</td>\n",
       "      <td>72</td>\n",
       "      <td>Other</td>\n",
       "      <td>North</td>\n",
       "      <td>Health</td>\n",
       "      <td>1446.53</td>\n",
       "      <td>45619.84</td>\n",
       "      <td>Approved</td>\n",
       "      <td>4</td>\n",
       "      <td>NaN</td>\n",
       "      <td>Smoker</td>\n",
       "      <td>Heart Disease</td>\n",
       "    </tr>\n",
       "    <tr>\n",
       "      <th>2</th>\n",
       "      <td>POL_0003</td>\n",
       "      <td>71</td>\n",
       "      <td>Other</td>\n",
       "      <td>North</td>\n",
       "      <td>Travel</td>\n",
       "      <td>2103.51</td>\n",
       "      <td>0.00</td>\n",
       "      <td>Pending</td>\n",
       "      <td>5</td>\n",
       "      <td>NaN</td>\n",
       "      <td>NaN</td>\n",
       "      <td>NaN</td>\n",
       "    </tr>\n",
       "    <tr>\n",
       "      <th>3</th>\n",
       "      <td>POL_0004</td>\n",
       "      <td>35</td>\n",
       "      <td>Other</td>\n",
       "      <td>West</td>\n",
       "      <td>Life</td>\n",
       "      <td>2451.76</td>\n",
       "      <td>0.00</td>\n",
       "      <td>Approved</td>\n",
       "      <td>1</td>\n",
       "      <td>NaN</td>\n",
       "      <td>Smoker</td>\n",
       "      <td>Diabetes</td>\n",
       "    </tr>\n",
       "    <tr>\n",
       "      <th>4</th>\n",
       "      <td>POL_0005</td>\n",
       "      <td>24</td>\n",
       "      <td>Male</td>\n",
       "      <td>East</td>\n",
       "      <td>Travel</td>\n",
       "      <td>1633.81</td>\n",
       "      <td>9898.76</td>\n",
       "      <td>Approved</td>\n",
       "      <td>1</td>\n",
       "      <td>NaN</td>\n",
       "      <td>NaN</td>\n",
       "      <td>NaN</td>\n",
       "    </tr>\n",
       "    <tr>\n",
       "      <th>5</th>\n",
       "      <td>POL_0006</td>\n",
       "      <td>19</td>\n",
       "      <td>Male</td>\n",
       "      <td>South</td>\n",
       "      <td>Auto</td>\n",
       "      <td>3060.57</td>\n",
       "      <td>26007.68</td>\n",
       "      <td>Pending</td>\n",
       "      <td>3</td>\n",
       "      <td>12.0</td>\n",
       "      <td>NaN</td>\n",
       "      <td>NaN</td>\n",
       "    </tr>\n",
       "    <tr>\n",
       "      <th>6</th>\n",
       "      <td>POL_0007</td>\n",
       "      <td>25</td>\n",
       "      <td>Other</td>\n",
       "      <td>North</td>\n",
       "      <td>Life</td>\n",
       "      <td>2254.63</td>\n",
       "      <td>6479.02</td>\n",
       "      <td>Pending</td>\n",
       "      <td>5</td>\n",
       "      <td>NaN</td>\n",
       "      <td>Smoker</td>\n",
       "      <td>NaN</td>\n",
       "    </tr>\n",
       "    <tr>\n",
       "      <th>7</th>\n",
       "      <td>POL_0008</td>\n",
       "      <td>68</td>\n",
       "      <td>Other</td>\n",
       "      <td>East</td>\n",
       "      <td>Home</td>\n",
       "      <td>4050.49</td>\n",
       "      <td>25662.31</td>\n",
       "      <td>Approved</td>\n",
       "      <td>3</td>\n",
       "      <td>NaN</td>\n",
       "      <td>NaN</td>\n",
       "      <td>NaN</td>\n",
       "    </tr>\n",
       "    <tr>\n",
       "      <th>8</th>\n",
       "      <td>POL_0009</td>\n",
       "      <td>38</td>\n",
       "      <td>Other</td>\n",
       "      <td>South</td>\n",
       "      <td>Auto</td>\n",
       "      <td>3101.68</td>\n",
       "      <td>0.00</td>\n",
       "      <td>Approved</td>\n",
       "      <td>2</td>\n",
       "      <td>9.0</td>\n",
       "      <td>NaN</td>\n",
       "      <td>NaN</td>\n",
       "    </tr>\n",
       "    <tr>\n",
       "      <th>9</th>\n",
       "      <td>POL_0010</td>\n",
       "      <td>22</td>\n",
       "      <td>Other</td>\n",
       "      <td>West</td>\n",
       "      <td>Home</td>\n",
       "      <td>2534.12</td>\n",
       "      <td>35226.99</td>\n",
       "      <td>Pending</td>\n",
       "      <td>3</td>\n",
       "      <td>NaN</td>\n",
       "      <td>NaN</td>\n",
       "      <td>NaN</td>\n",
       "    </tr>\n",
       "  </tbody>\n",
       "</table>\n",
       "</div>"
      ],
      "text/plain": [
       "  Policy_ID  Customer_Age  Gender Region Policy_Type  Premium_Amount (USD)  \\\n",
       "0  POL_0001            76  Female  South        Home               1334.50   \n",
       "1  POL_0002            72   Other  North      Health               1446.53   \n",
       "2  POL_0003            71   Other  North      Travel               2103.51   \n",
       "3  POL_0004            35   Other   West        Life               2451.76   \n",
       "4  POL_0005            24    Male   East      Travel               1633.81   \n",
       "5  POL_0006            19    Male  South        Auto               3060.57   \n",
       "6  POL_0007            25   Other  North        Life               2254.63   \n",
       "7  POL_0008            68   Other   East        Home               4050.49   \n",
       "8  POL_0009            38   Other  South        Auto               3101.68   \n",
       "9  POL_0010            22   Other   West        Home               2534.12   \n",
       "\n",
       "   Claim_Amount (USD) Claim_Status  Number_of_Claims  Vehicle_Age  \\\n",
       "0                0.00      Pending                 0          NaN   \n",
       "1            45619.84     Approved                 4          NaN   \n",
       "2                0.00      Pending                 5          NaN   \n",
       "3                0.00     Approved                 1          NaN   \n",
       "4             9898.76     Approved                 1          NaN   \n",
       "5            26007.68      Pending                 3         12.0   \n",
       "6             6479.02      Pending                 5          NaN   \n",
       "7            25662.31     Approved                 3          NaN   \n",
       "8                0.00     Approved                 2          9.0   \n",
       "9            35226.99      Pending                 3          NaN   \n",
       "\n",
       "  Smoking_Status Medical_History  \n",
       "0            NaN             NaN  \n",
       "1         Smoker   Heart Disease  \n",
       "2            NaN             NaN  \n",
       "3         Smoker        Diabetes  \n",
       "4            NaN             NaN  \n",
       "5            NaN             NaN  \n",
       "6         Smoker             NaN  \n",
       "7            NaN             NaN  \n",
       "8            NaN             NaN  \n",
       "9            NaN             NaN  "
      ]
     },
     "execution_count": 21,
     "metadata": {},
     "output_type": "execute_result"
    }
   ],
   "source": [
    "df.head(10)"
   ]
  },
  {
   "cell_type": "code",
   "execution_count": 23,
   "metadata": {},
   "outputs": [
    {
     "data": {
      "text/html": [
       "<div>\n",
       "<style scoped>\n",
       "    .dataframe tbody tr th:only-of-type {\n",
       "        vertical-align: middle;\n",
       "    }\n",
       "\n",
       "    .dataframe tbody tr th {\n",
       "        vertical-align: top;\n",
       "    }\n",
       "\n",
       "    .dataframe thead th {\n",
       "        text-align: right;\n",
       "    }\n",
       "</style>\n",
       "<table border=\"1\" class=\"dataframe\">\n",
       "  <thead>\n",
       "    <tr style=\"text-align: right;\">\n",
       "      <th></th>\n",
       "      <th>Customer_Age</th>\n",
       "      <th>Premium_Amount (USD)</th>\n",
       "      <th>Claim_Amount (USD)</th>\n",
       "      <th>Number_of_Claims</th>\n",
       "      <th>Vehicle_Age</th>\n",
       "    </tr>\n",
       "  </thead>\n",
       "  <tbody>\n",
       "    <tr>\n",
       "      <th>count</th>\n",
       "      <td>1000.000000</td>\n",
       "      <td>1000.000000</td>\n",
       "      <td>1000.000000</td>\n",
       "      <td>1000.000000</td>\n",
       "      <td>212.000000</td>\n",
       "    </tr>\n",
       "    <tr>\n",
       "      <th>mean</th>\n",
       "      <td>50.031000</td>\n",
       "      <td>2624.573530</td>\n",
       "      <td>17411.490390</td>\n",
       "      <td>2.588000</td>\n",
       "      <td>7.650943</td>\n",
       "    </tr>\n",
       "    <tr>\n",
       "      <th>std</th>\n",
       "      <td>18.133308</td>\n",
       "      <td>1361.417183</td>\n",
       "      <td>16979.876271</td>\n",
       "      <td>1.711486</td>\n",
       "      <td>4.478580</td>\n",
       "    </tr>\n",
       "    <tr>\n",
       "      <th>min</th>\n",
       "      <td>18.000000</td>\n",
       "      <td>229.330000</td>\n",
       "      <td>0.000000</td>\n",
       "      <td>0.000000</td>\n",
       "      <td>0.000000</td>\n",
       "    </tr>\n",
       "    <tr>\n",
       "      <th>25%</th>\n",
       "      <td>34.750000</td>\n",
       "      <td>1444.482500</td>\n",
       "      <td>0.000000</td>\n",
       "      <td>1.000000</td>\n",
       "      <td>4.000000</td>\n",
       "    </tr>\n",
       "    <tr>\n",
       "      <th>50%</th>\n",
       "      <td>50.000000</td>\n",
       "      <td>2638.070000</td>\n",
       "      <td>13369.270000</td>\n",
       "      <td>3.000000</td>\n",
       "      <td>7.500000</td>\n",
       "    </tr>\n",
       "    <tr>\n",
       "      <th>75%</th>\n",
       "      <td>66.000000</td>\n",
       "      <td>3794.552500</td>\n",
       "      <td>33062.382500</td>\n",
       "      <td>4.000000</td>\n",
       "      <td>11.000000</td>\n",
       "    </tr>\n",
       "    <tr>\n",
       "      <th>max</th>\n",
       "      <td>80.000000</td>\n",
       "      <td>4997.920000</td>\n",
       "      <td>49949.580000</td>\n",
       "      <td>5.000000</td>\n",
       "      <td>15.000000</td>\n",
       "    </tr>\n",
       "  </tbody>\n",
       "</table>\n",
       "</div>"
      ],
      "text/plain": [
       "       Customer_Age  Premium_Amount (USD)  Claim_Amount (USD)  \\\n",
       "count   1000.000000           1000.000000         1000.000000   \n",
       "mean      50.031000           2624.573530        17411.490390   \n",
       "std       18.133308           1361.417183        16979.876271   \n",
       "min       18.000000            229.330000            0.000000   \n",
       "25%       34.750000           1444.482500            0.000000   \n",
       "50%       50.000000           2638.070000        13369.270000   \n",
       "75%       66.000000           3794.552500        33062.382500   \n",
       "max       80.000000           4997.920000        49949.580000   \n",
       "\n",
       "       Number_of_Claims  Vehicle_Age  \n",
       "count       1000.000000   212.000000  \n",
       "mean           2.588000     7.650943  \n",
       "std            1.711486     4.478580  \n",
       "min            0.000000     0.000000  \n",
       "25%            1.000000     4.000000  \n",
       "50%            3.000000     7.500000  \n",
       "75%            4.000000    11.000000  \n",
       "max            5.000000    15.000000  "
      ]
     },
     "execution_count": 23,
     "metadata": {},
     "output_type": "execute_result"
    }
   ],
   "source": [
    "df.describe()"
   ]
  },
  {
   "cell_type": "code",
   "execution_count": 26,
   "metadata": {},
   "outputs": [
    {
     "name": "stdout",
     "output_type": "stream",
     "text": [
      "       Policy_ID Gender Region Policy_Type Claim_Status Smoking_Status  \\\n",
      "count       1000   1000   1000        1000         1000            382   \n",
      "unique      1000      3      5           5            3              2   \n",
      "top     POL_0001  Other   East        Auto     Approved     Non-Smoker   \n",
      "freq           1    346    222         212          345            195   \n",
      "\n",
      "       Medical_History  \n",
      "count              297  \n",
      "unique               4  \n",
      "top           Diabetes  \n",
      "freq                87  \n"
     ]
    }
   ],
   "source": [
    "print(df.describe(include=['object']))\n"
   ]
  },
  {
   "cell_type": "markdown",
   "metadata": {},
   "source": [
    "## Data Cleaning\n"
   ]
  },
  {
   "cell_type": "code",
   "execution_count": 22,
   "metadata": {},
   "outputs": [
    {
     "data": {
      "text/plain": [
       "Policy_ID                 0\n",
       "Customer_Age              0\n",
       "Gender                    0\n",
       "Region                    0\n",
       "Policy_Type               0\n",
       "Premium_Amount (USD)      0\n",
       "Claim_Amount (USD)        0\n",
       "Claim_Status              0\n",
       "Number_of_Claims          0\n",
       "Vehicle_Age             788\n",
       "Smoking_Status          618\n",
       "Medical_History         703\n",
       "dtype: int64"
      ]
     },
     "execution_count": 22,
     "metadata": {},
     "output_type": "execute_result"
    }
   ],
   "source": [
    "df.isnull().sum()\n"
   ]
  },
  {
   "cell_type": "code",
   "execution_count": 27,
   "metadata": {},
   "outputs": [
    {
     "name": "stdout",
     "output_type": "stream",
     "text": [
      "Duplicate Rows: 0\n"
     ]
    }
   ],
   "source": [
    "print(f\"Duplicate Rows: {df.duplicated().sum()}\")\n"
   ]
  },
  {
   "cell_type": "code",
   "execution_count": 29,
   "metadata": {},
   "outputs": [],
   "source": [
    "# Filling missing values\n",
    "df['Smoking_Status'].fillna('Unknown', inplace=True)\n",
    "df['Medical_History'].fillna('No History', inplace=True)\n",
    "\n"
   ]
  },
  {
   "cell_type": "markdown",
   "metadata": {},
   "source": [
    "## Checking Data Distribution "
   ]
  },
  {
   "cell_type": "code",
   "execution_count": null,
   "metadata": {},
   "outputs": [],
   "source": []
  }
 ],
 "metadata": {
  "kernelspec": {
   "display_name": "Python 3",
   "language": "python",
   "name": "python3"
  },
  "language_info": {
   "codemirror_mode": {
    "name": "ipython",
    "version": 3
   },
   "file_extension": ".py",
   "mimetype": "text/x-python",
   "name": "python",
   "nbconvert_exporter": "python",
   "pygments_lexer": "ipython3",
   "version": "3.12.5"
  }
 },
 "nbformat": 4,
 "nbformat_minor": 2
}
